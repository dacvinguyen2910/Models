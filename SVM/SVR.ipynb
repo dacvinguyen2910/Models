{
 "cells": [
  {
   "cell_type": "markdown",
   "metadata": {
    "colab_type": "text",
    "id": "D1NPSMy4DaPH"
   },
   "source": [
    "# Chapter 8: Demo svm.SVR"
   ]
  },
  {
   "cell_type": "code",
   "execution_count": 2,
   "metadata": {
    "colab": {},
    "colab_type": "code",
    "id": "SjysS8rIDaPI"
   },
   "outputs": [],
   "source": [
    "import numpy as np\n",
    "from sklearn.svm import SVR\n",
    "import matplotlib.pyplot as plt"
   ]
  },
  {
   "cell_type": "code",
   "execution_count": 3,
   "metadata": {
    "colab": {},
    "colab_type": "code",
    "id": "lO1FeN8cDaPQ"
   },
   "outputs": [],
   "source": [
    "X = np.array([[0.2313566 ], [0.35230223], [0.45908406], [0.48294093],\n",
    "       [0.58074839], [0.62907617], [0.65463391], [0.66907165],\n",
    "       [0.72477906], [0.84710095], [0.86498594], [0.90941156],\n",
    "       [1.13304331], [1.25504584], [1.44700167], [1.74536094], \n",
    "       [1.79142627], [1.83170011], [1.88076225], [2.0105496 ],\n",
    "       [2.26131001], [2.29476084], [2.41590987], [2.47337582],\n",
    "       [2.6651377 ], [2.68692155], [2.99062486], [3.43585631],\n",
    "       [3.50038771], [4.11040781], [4.22895473], [4.31548218],\n",
    "       [4.39430932], [4.44893063], [4.51696106], [4.65979544],\n",
    "       [4.73270839], [4.89174978], [4.89780429], [4.93440963]])"
   ]
  },
  {
   "cell_type": "code",
   "execution_count": 4,
   "metadata": {
    "colab": {},
    "colab_type": "code",
    "id": "UG_CWGW2DaPZ"
   },
   "outputs": [],
   "source": [
    "y = np.array([ 0.96101284,  0.2415537 ,  0.25846608,  0.36762907,  0.48615592,\n",
    "       -0.6262452 ,  0.64025271,  0.65477594,  0.8324045 ,  0.92479558,\n",
    "        2.02978015,  0.99651699,  0.99683044,  0.99995752,  0.97941008,\n",
    "        0.00497547,  0.96920264,  0.92358315,  0.91018836,  0.90276912,\n",
    "        2.14437202,  0.59680595,  0.51094802,  0.38943511,  0.27458801,\n",
    "        0.86368324, -0.26469069, -0.28272056, -0.36471195, -0.41187662,\n",
    "       -1.32386553, -0.75770017, -0.83174207, -0.90513234, -0.95911322,\n",
    "       -1.55498376, -0.99902373, -0.9992663 , -0.99879695, -0.96345159])"
   ]
  },
  {
   "cell_type": "code",
   "execution_count": 5,
   "metadata": {
    "colab": {},
    "colab_type": "code",
    "id": "ng7a2-syDaPb"
   },
   "outputs": [],
   "source": [
    "# Fit regression model\n",
    "svr_rbf = SVR(kernel='rbf', C=100, gamma=0.1)\n",
    "svr_lin = SVR(kernel='linear', C=100)\n",
    "svr_poly = SVR(kernel='poly', C=100, degree=3)"
   ]
  },
  {
   "cell_type": "code",
   "execution_count": 6,
   "metadata": {
    "colab": {},
    "colab_type": "code",
    "id": "aaqZ_T7QDaPd"
   },
   "outputs": [],
   "source": [
    "svr_rbf.fit(X, y)\n",
    "yhat_rbf = svr_rbf.predict(X)"
   ]
  },
  {
   "cell_type": "code",
   "execution_count": 7,
   "metadata": {
    "colab": {},
    "colab_type": "code",
    "id": "6mPmW3u5DaPf"
   },
   "outputs": [],
   "source": [
    "svr_lin.fit(X,y)\n",
    "yhat_lin = svr_lin.predict(X)"
   ]
  },
  {
   "cell_type": "code",
   "execution_count": 8,
   "metadata": {
    "colab": {},
    "colab_type": "code",
    "id": "9yktbRQ-DaPi"
   },
   "outputs": [],
   "source": [
    "svr_poly.fit(X,y)\n",
    "yhat_poly = svr_poly.predict(X)"
   ]
  },
  {
   "cell_type": "code",
   "execution_count": 9,
   "metadata": {
    "colab": {
     "base_uri": "https://localhost:8080/",
     "height": 336
    },
    "colab_type": "code",
    "executionInfo": {
     "elapsed": 3154,
     "status": "ok",
     "timestamp": 1589675783979,
     "user": {
      "displayName": "Phuong Khuat Thuy",
      "photoUrl": "",
      "userId": "16807426118474640783"
     },
     "user_tz": -420
    },
    "id": "uPrbO6C2DaPk",
    "outputId": "97eef162-8736-4f20-8754-93561beaae04"
   },
   "outputs": [
    {
     "data": {
      "image/png": "[encoded data removed]",
      "text/plain": [
       "<Figure size 864x360 with 3 Axes>"
      ]
     },
     "metadata": {
      "needs_background": "light"
     },
     "output_type": "display_data"
    }
   ],
   "source": [
    "plt.figure(figsize=(12,5))\n",
    "plt.subplot(1,3,1)\n",
    "plt.plot(X,yhat_rbf, color='r')\n",
    "plt.scatter(X,y)\n",
    "plt.title(\"RBF\")\n",
    "plt.subplot(1,3,2)\n",
    "plt.plot(X,yhat_lin, color='g')\n",
    "plt.scatter(X,y)\n",
    "plt.title(\"Linear\")\n",
    "plt.subplot(1,3,3)\n",
    "plt.plot(X,yhat_poly, color='b')\n",
    "plt.scatter(X,y)\n",
    "plt.title(\"Poly\")\n",
    "plt.show()"
   ]
  },
  {
   "cell_type": "code",
   "execution_count": 0,
   "metadata": {
    "colab": {},
    "colab_type": "code",
    "id": "oafxhNn2DaPm"
   },
   "outputs": [],
   "source": []
  }
 ],
 "metadata": {
  "colab": {
   "name": "Chapter8_demo_SVR.ipynb",
   "provenance": []
  },
  "kernelspec": {
   "display_name": "Python 3",
   "language": "python",
   "name": "python3"
  },
  "language_info": {
   "codemirror_mode": {
    "name": "ipython",
    "version": 3
   },
   "file_extension": ".py",
   "mimetype": "text/x-python",
   "name": "python",
   "nbconvert_exporter": "python",
   "pygments_lexer": "ipython3",
   "version": "3.6.8"
  }
 },
 "nbformat": 4,
 "nbformat_minor": 1
}
