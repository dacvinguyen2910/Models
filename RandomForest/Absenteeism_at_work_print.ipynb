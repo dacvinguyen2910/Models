{
 "cells": [
  {
   "cell_type": "markdown",
   "metadata": {
    "colab_type": "text",
    "id": "8-K-B3A8OVB0"
   },
   "source": [
    "# Chapter 7 - Exercise 2: Absenteeism_at_work"
   ]
  },
  {
   "cell_type": "markdown",
   "metadata": {
    "colab_type": "text",
    "id": "snp_e__zOVB1"
   },
   "source": [
    "### Cho dữ liệu Absenteeism_at_work trong tập tin Absenteeism_at_work.csv\n",
    "### Yêu cầu: Hãy đọc dữ liệu từ tập tin này, áp dụng Random Forest để thực hiện việc xác định thời gian vắng mặt theo giờ (Absenteeism time in hours (target)) dựa trên các thông tin được cung cấp.\n",
    "#### Chi tiết:\n",
    "1. Đọc dữ liệu. Chuẩn hóa dữ liệu\n",
    "2. Tạo X_train, X_test, y_train, y_test từ dữ liệu chuẩn hóa với tỷ lệ dữ liệu test là 0.3\n",
    "3. Áp dụng Random Forest, Tìm kết quả\n",
    "4. Kiểm tra độ chính xác\n",
    "5. Tìm các thuộc tính quan trọng nhất trong tập dữ liệu\n",
    "6. Trực quan hóa thuộc tính quan trọng\n",
    "7. Áp dụng lại Random Forest dựa trên các thuộc tính quan trọng, tìm kết quả\n",
    "8. Kiểm tra độ chính xác\n",
    "9. Tự cho 1 dữ liệu X_test mới. Ví dụ như: ['Reason for absence', 'Work load Average per day', 'Age',\n",
    "       'Month of absence', 'Day of the week', 'Hit target',\n",
    "       'Transportation expense', 'Weight', 'Seasons', 'Height',\n",
    "       'Distance from Residence to Work', 'Son', 'Pet', 'Service time'] ứng với [ 10., 205.917, 28.,8., 4., 92., 330. ,\n",
    "        84., 1., 182., 16., 0., 0., 4.]. Tìm kết quả Y test."
   ]
  },
  {
   "cell_type": "markdown",
   "metadata": {
    "colab_type": "text",
    "id": "-OiVtUMCOVB2"
   },
   "source": [
    "### Attribute Information:\n",
    "1. Individual identification (ID) \n",
    "2. Reason for absence (ICD). \n",
    "Absences attested by the International Code of Diseases (ICD) stratified into 21 categories (I to XXI) as follows: \n",
    "\n",
    "- I Certain infectious and parasitic diseases \n",
    "- II Neoplasms \n",
    "- III Diseases of the blood and blood-forming organs and certain disorders involving the immune mechanism \n",
    "- IV Endocrine, nutritional and metabolic diseases \n",
    "- V Mental and behavioural disorders \n",
    "- VI Diseases of the nervous system \n",
    "- VII Diseases of the eye and adnexa \n",
    "- VIII Diseases of the ear and mastoid process \n",
    "- IX Diseases of the circulatory system \n",
    "- X Diseases of the respiratory system \n",
    "- XI Diseases of the digestive system \n",
    "- XII Diseases of the skin and subcutaneous tissue \n",
    "- XIII Diseases of the musculoskeletal system and connective tissue \n",
    "- XIV Diseases of the genitourinary system \n",
    "- XV Pregnancy, childbirth and the puerperium \n",
    "- XVI Certain conditions originating in the perinatal period \n",
    "- XVII Congenital malformations, deformations and chromosomal abnormalities \n",
    "- XVIII Symptoms, signs and abnormal clinical and laboratory findings, not elsewhere classified \n",
    "- XIX Injury, poisoning and certain other consequences of external causes \n",
    "- XX External causes of morbidity and mortality \n",
    "- XXI Factors influencing health status and contact with health services. \n",
    "\n",
    "And 7 categories without (CID) patient follow-up (22), medical consultation (23), blood donation (24), laboratory examination (25), unjustified absence (26), physiotherapy (27), dental consultation (28). \n",
    "3. Month of absence \n",
    "4. Day of the week (Monday (2), Tuesday (3), Wednesday (4), Thursday (5), Friday (6)) \n",
    "5. Seasons (summer (1), autumn (2), winter (3), spring (4)) \n",
    "6. Transportation expense \n",
    "7. Distance from Residence to Work (kilometers) \n",
    "8. Service time \n",
    "9. Age \n",
    "10. Work load Average/day \n",
    "11. Hit target \n",
    "12. Disciplinary failure (yes=1; no=0) \n",
    "13. Education (high school (1), graduate (2), postgraduate (3), master and doctor (4)) \n",
    "14. Son (number of children) \n",
    "15. Social drinker (yes=1; no=0) \n",
    "16. Social smoker (yes=1; no=0) \n",
    "17. Pet (number of pet) \n",
    "18. Weight \n",
    "19. Height \n",
    "20. Body mass index \n",
    "21. Absenteeism time in hours (target) \n"
   ]
  },
  {
   "cell_type": "code",
   "execution_count": 1,
   "metadata": {
    "colab": {
     "base_uri": "https://localhost:8080/",
     "height": 34
    },
    "colab_type": "code",
    "executionInfo": {
     "elapsed": 2945,
     "status": "ok",
     "timestamp": 1573858841878,
     "user": {
      "displayName": "Phuong Khuat Thuy",
      "photoUrl": "",
      "userId": "16807426118474640783"
     },
     "user_tz": -420
    },
    "id": "nLIxa3TCRo_l",
    "outputId": "5f619eb1-8080-4111-b608-94d1bff30b28"
   },
   "outputs": [],
   "source": [
    "# from google.colab import drive\n",
    "# drive.mount(\"/content/gdrive\", force_remount=True)\n",
    "# %cd '/content/gdrive/My Drive/LDS6_MachineLearning/practice/Chapter7_Random_Forest/'"
   ]
  },
  {
   "cell_type": "code",
   "execution_count": 1,
   "metadata": {
    "colab": {},
    "colab_type": "code",
    "id": "9hGKAErDOVB3"
   },
   "outputs": [],
   "source": [
    "import numpy as np \n",
    "import pandas as pd \n",
    "import matplotlib.pyplot as plt \n",
    "from sklearn.model_selection import train_test_split   \n",
    "import math"
   ]
  },
  {
   "cell_type": "code",
   "execution_count": 2,
   "metadata": {
    "colab": {},
    "colab_type": "code",
    "id": "9wQ1DYnKOVB6"
   },
   "outputs": [],
   "source": [
    "data = pd.read_csv(\"Absenteeism_at_work.csv\", sep=\";\")"
   ]
  },
  {
   "cell_type": "code",
   "execution_count": 3,
   "metadata": {
    "colab": {
     "base_uri": "https://localhost:8080/",
     "height": 34
    },
    "colab_type": "code",
    "executionInfo": {
     "elapsed": 2914,
     "status": "ok",
     "timestamp": 1573858841880,
     "user": {
      "displayName": "Phuong Khuat Thuy",
      "photoUrl": "",
      "userId": "16807426118474640783"
     },
     "user_tz": -420
    },
    "id": "Ovla-g6zOVB8",
    "outputId": "b60cecf1-36c2-4542-db62-e3be96cffe5c"
   },
   "outputs": [
    {
     "data": {
      "text/plain": [
       "pandas.core.frame.DataFrame"
      ]
     },
     "execution_count": 3,
     "metadata": {},
     "output_type": "execute_result"
    }
   ],
   "source": [
    "type(data)"
   ]
  },
  {
   "cell_type": "code",
   "execution_count": 4,
   "metadata": {
    "colab": {
     "base_uri": "https://localhost:8080/",
     "height": 459
    },
    "colab_type": "code",
    "executionInfo": {
     "elapsed": 2904,
     "status": "ok",
     "timestamp": 1573858841880,
     "user": {
      "displayName": "Phuong Khuat Thuy",
      "photoUrl": "",
      "userId": "16807426118474640783"
     },
     "user_tz": -420
    },
    "id": "BlMml7ZZOVB_",
    "outputId": "2b59a67f-cc78-46e4-acaa-83c417e16308"
   },
   "outputs": [
    {
     "name": "stdout",
     "output_type": "stream",
     "text": [
      "<class 'pandas.core.frame.DataFrame'>\n",
      "RangeIndex: 740 entries, 0 to 739\n",
      "Data columns (total 21 columns):\n",
      " #   Column                           Non-Null Count  Dtype  \n",
      "---  ------                           --------------  -----  \n",
      " 0   ID                               740 non-null    int64  \n",
      " 1   Reason for absence               740 non-null    int64  \n",
      " 2   Month of absence                 740 non-null    int64  \n",
      " 3   Day of the week                  740 non-null    int64  \n",
      " 4   Seasons                          740 non-null    int64  \n",
      " 5   Transportation expense           740 non-null    int64  \n",
      " 6   Distance from Residence to Work  740 non-null    int64  \n",
      " 7   Service time                     740 non-null    int64  \n",
      " 8   Age                              740 non-null    int64  \n",
      " 9   Work load Average per day        740 non-null    float64\n",
      " 10  Hit target                       740 non-null    int64  \n",
      " 11  Disciplinary failure             740 non-null    int64  \n",
      " 12  Education                        740 non-null    int64  \n",
      " 13  Son                              740 non-null    int64  \n",
      " 14  Social drinker                   740 non-null    int64  \n",
      " 15  Social smoker                    740 non-null    int64  \n",
      " 16  Pet                              740 non-null    int64  \n",
      " 17  Weight                           740 non-null    int64  \n",
      " 18  Height                           740 non-null    int64  \n",
      " 19  Body mass index                  740 non-null    int64  \n",
      " 20  Absenteeism time in hours        740 non-null    int64  \n",
      "dtypes: float64(1), int64(20)\n",
      "memory usage: 121.5 KB\n"
     ]
    }
   ],
   "source": [
    "data.info()"
   ]
  },
  {
   "cell_type": "code",
   "execution_count": 5,
   "metadata": {
    "colab": {
     "base_uri": "https://localhost:8080/",
     "height": 238
    },
    "colab_type": "code",
    "executionInfo": {
     "elapsed": 2892,
     "status": "ok",
     "timestamp": 1573858841881,
     "user": {
      "displayName": "Phuong Khuat Thuy",
      "photoUrl": "",
      "userId": "16807426118474640783"
     },
     "user_tz": -420
    },
    "id": "vkTdF6HeOVCC",
    "outputId": "43015e3f-b181-4323-bea2-05bae5b93bbb"
   },
   "outputs": [
    {
     "data": {
      "text/html": [
       "<div>\n",
       "<style scoped>\n",
       "    .dataframe tbody tr th:only-of-type {\n",
       "        vertical-align: middle;\n",
       "    }\n",
       "\n",
       "    .dataframe tbody tr th {\n",
       "        vertical-align: top;\n",
       "    }\n",
       "\n",
       "    .dataframe thead th {\n",
       "        text-align: right;\n",
       "    }\n",
       "</style>\n",
       "<table border=\"1\" class=\"dataframe\">\n",
       "  <thead>\n",
       "    <tr style=\"text-align: right;\">\n",
       "      <th></th>\n",
       "      <th>ID</th>\n",
       "      <th>Reason for absence</th>\n",
       "      <th>Month of absence</th>\n",
       "      <th>Day of the week</th>\n",
       "      <th>Seasons</th>\n",
       "      <th>Transportation expense</th>\n",
       "      <th>Distance from Residence to Work</th>\n",
       "      <th>Service time</th>\n",
       "      <th>Age</th>\n",
       "      <th>Work load Average per day</th>\n",
       "      <th>...</th>\n",
       "      <th>Disciplinary failure</th>\n",
       "      <th>Education</th>\n",
       "      <th>Son</th>\n",
       "      <th>Social drinker</th>\n",
       "      <th>Social smoker</th>\n",
       "      <th>Pet</th>\n",
       "      <th>Weight</th>\n",
       "      <th>Height</th>\n",
       "      <th>Body mass index</th>\n",
       "      <th>Absenteeism time in hours</th>\n",
       "    </tr>\n",
       "  </thead>\n",
       "  <tbody>\n",
       "    <tr>\n",
       "      <th>0</th>\n",
       "      <td>11</td>\n",
       "      <td>26</td>\n",
       "      <td>7</td>\n",
       "      <td>3</td>\n",
       "      <td>1</td>\n",
       "      <td>289</td>\n",
       "      <td>36</td>\n",
       "      <td>13</td>\n",
       "      <td>33</td>\n",
       "      <td>239.554</td>\n",
       "      <td>...</td>\n",
       "      <td>0</td>\n",
       "      <td>1</td>\n",
       "      <td>2</td>\n",
       "      <td>1</td>\n",
       "      <td>0</td>\n",
       "      <td>1</td>\n",
       "      <td>90</td>\n",
       "      <td>172</td>\n",
       "      <td>30</td>\n",
       "      <td>4</td>\n",
       "    </tr>\n",
       "    <tr>\n",
       "      <th>1</th>\n",
       "      <td>36</td>\n",
       "      <td>0</td>\n",
       "      <td>7</td>\n",
       "      <td>3</td>\n",
       "      <td>1</td>\n",
       "      <td>118</td>\n",
       "      <td>13</td>\n",
       "      <td>18</td>\n",
       "      <td>50</td>\n",
       "      <td>239.554</td>\n",
       "      <td>...</td>\n",
       "      <td>1</td>\n",
       "      <td>1</td>\n",
       "      <td>1</td>\n",
       "      <td>1</td>\n",
       "      <td>0</td>\n",
       "      <td>0</td>\n",
       "      <td>98</td>\n",
       "      <td>178</td>\n",
       "      <td>31</td>\n",
       "      <td>0</td>\n",
       "    </tr>\n",
       "    <tr>\n",
       "      <th>2</th>\n",
       "      <td>3</td>\n",
       "      <td>23</td>\n",
       "      <td>7</td>\n",
       "      <td>4</td>\n",
       "      <td>1</td>\n",
       "      <td>179</td>\n",
       "      <td>51</td>\n",
       "      <td>18</td>\n",
       "      <td>38</td>\n",
       "      <td>239.554</td>\n",
       "      <td>...</td>\n",
       "      <td>0</td>\n",
       "      <td>1</td>\n",
       "      <td>0</td>\n",
       "      <td>1</td>\n",
       "      <td>0</td>\n",
       "      <td>0</td>\n",
       "      <td>89</td>\n",
       "      <td>170</td>\n",
       "      <td>31</td>\n",
       "      <td>2</td>\n",
       "    </tr>\n",
       "    <tr>\n",
       "      <th>3</th>\n",
       "      <td>7</td>\n",
       "      <td>7</td>\n",
       "      <td>7</td>\n",
       "      <td>5</td>\n",
       "      <td>1</td>\n",
       "      <td>279</td>\n",
       "      <td>5</td>\n",
       "      <td>14</td>\n",
       "      <td>39</td>\n",
       "      <td>239.554</td>\n",
       "      <td>...</td>\n",
       "      <td>0</td>\n",
       "      <td>1</td>\n",
       "      <td>2</td>\n",
       "      <td>1</td>\n",
       "      <td>1</td>\n",
       "      <td>0</td>\n",
       "      <td>68</td>\n",
       "      <td>168</td>\n",
       "      <td>24</td>\n",
       "      <td>4</td>\n",
       "    </tr>\n",
       "    <tr>\n",
       "      <th>4</th>\n",
       "      <td>11</td>\n",
       "      <td>23</td>\n",
       "      <td>7</td>\n",
       "      <td>5</td>\n",
       "      <td>1</td>\n",
       "      <td>289</td>\n",
       "      <td>36</td>\n",
       "      <td>13</td>\n",
       "      <td>33</td>\n",
       "      <td>239.554</td>\n",
       "      <td>...</td>\n",
       "      <td>0</td>\n",
       "      <td>1</td>\n",
       "      <td>2</td>\n",
       "      <td>1</td>\n",
       "      <td>0</td>\n",
       "      <td>1</td>\n",
       "      <td>90</td>\n",
       "      <td>172</td>\n",
       "      <td>30</td>\n",
       "      <td>2</td>\n",
       "    </tr>\n",
       "  </tbody>\n",
       "</table>\n",
       "<p>5 rows × 21 columns</p>\n",
       "</div>"
      ],
      "text/plain": [
       "   ID  Reason for absence  Month of absence  Day of the week  Seasons  \\\n",
       "0  11                  26                 7                3        1   \n",
       "1  36                   0                 7                3        1   \n",
       "2   3                  23                 7                4        1   \n",
       "3   7                   7                 7                5        1   \n",
       "4  11                  23                 7                5        1   \n",
       "\n",
       "   Transportation expense  Distance from Residence to Work  Service time  Age  \\\n",
       "0                     289                               36            13   33   \n",
       "1                     118                               13            18   50   \n",
       "2                     179                               51            18   38   \n",
       "3                     279                                5            14   39   \n",
       "4                     289                               36            13   33   \n",
       "\n",
       "   Work load Average per day  ...  Disciplinary failure  Education  Son  \\\n",
       "0                    239.554  ...                     0          1    2   \n",
       "1                    239.554  ...                     1          1    1   \n",
       "2                    239.554  ...                     0          1    0   \n",
       "3                    239.554  ...                     0          1    2   \n",
       "4                    239.554  ...                     0          1    2   \n",
       "\n",
       "   Social drinker  Social smoker  Pet  Weight  Height  Body mass index  \\\n",
       "0               1              0    1      90     172               30   \n",
       "1               1              0    0      98     178               31   \n",
       "2               1              0    0      89     170               31   \n",
       "3               1              1    0      68     168               24   \n",
       "4               1              0    1      90     172               30   \n",
       "\n",
       "   Absenteeism time in hours  \n",
       "0                          4  \n",
       "1                          0  \n",
       "2                          2  \n",
       "3                          4  \n",
       "4                          2  \n",
       "\n",
       "[5 rows x 21 columns]"
      ]
     },
     "execution_count": 5,
     "metadata": {},
     "output_type": "execute_result"
    }
   ],
   "source": [
    "data.head()"
   ]
  },
  {
   "cell_type": "code",
   "execution_count": 6,
   "metadata": {
    "colab": {
     "base_uri": "https://localhost:8080/",
     "height": 238
    },
    "colab_type": "code",
    "executionInfo": {
     "elapsed": 2884,
     "status": "ok",
     "timestamp": 1573858841881,
     "user": {
      "displayName": "Phuong Khuat Thuy",
      "photoUrl": "",
      "userId": "16807426118474640783"
     },
     "user_tz": -420
    },
    "id": "K4Z9aIUOOVCF",
    "outputId": "1f81576c-602b-4cd7-f632-9eee13d27c43"
   },
   "outputs": [
    {
     "data": {
      "text/html": [
       "<div>\n",
       "<style scoped>\n",
       "    .dataframe tbody tr th:only-of-type {\n",
       "        vertical-align: middle;\n",
       "    }\n",
       "\n",
       "    .dataframe tbody tr th {\n",
       "        vertical-align: top;\n",
       "    }\n",
       "\n",
       "    .dataframe thead th {\n",
       "        text-align: right;\n",
       "    }\n",
       "</style>\n",
       "<table border=\"1\" class=\"dataframe\">\n",
       "  <thead>\n",
       "    <tr style=\"text-align: right;\">\n",
       "      <th></th>\n",
       "      <th>ID</th>\n",
       "      <th>Reason for absence</th>\n",
       "      <th>Month of absence</th>\n",
       "      <th>Day of the week</th>\n",
       "      <th>Seasons</th>\n",
       "      <th>Transportation expense</th>\n",
       "      <th>Distance from Residence to Work</th>\n",
       "      <th>Service time</th>\n",
       "      <th>Age</th>\n",
       "      <th>Work load Average per day</th>\n",
       "      <th>...</th>\n",
       "      <th>Disciplinary failure</th>\n",
       "      <th>Education</th>\n",
       "      <th>Son</th>\n",
       "      <th>Social drinker</th>\n",
       "      <th>Social smoker</th>\n",
       "      <th>Pet</th>\n",
       "      <th>Weight</th>\n",
       "      <th>Height</th>\n",
       "      <th>Body mass index</th>\n",
       "      <th>Absenteeism time in hours</th>\n",
       "    </tr>\n",
       "  </thead>\n",
       "  <tbody>\n",
       "    <tr>\n",
       "      <th>735</th>\n",
       "      <td>11</td>\n",
       "      <td>14</td>\n",
       "      <td>7</td>\n",
       "      <td>3</td>\n",
       "      <td>1</td>\n",
       "      <td>289</td>\n",
       "      <td>36</td>\n",
       "      <td>13</td>\n",
       "      <td>33</td>\n",
       "      <td>264.604</td>\n",
       "      <td>...</td>\n",
       "      <td>0</td>\n",
       "      <td>1</td>\n",
       "      <td>2</td>\n",
       "      <td>1</td>\n",
       "      <td>0</td>\n",
       "      <td>1</td>\n",
       "      <td>90</td>\n",
       "      <td>172</td>\n",
       "      <td>30</td>\n",
       "      <td>8</td>\n",
       "    </tr>\n",
       "    <tr>\n",
       "      <th>736</th>\n",
       "      <td>1</td>\n",
       "      <td>11</td>\n",
       "      <td>7</td>\n",
       "      <td>3</td>\n",
       "      <td>1</td>\n",
       "      <td>235</td>\n",
       "      <td>11</td>\n",
       "      <td>14</td>\n",
       "      <td>37</td>\n",
       "      <td>264.604</td>\n",
       "      <td>...</td>\n",
       "      <td>0</td>\n",
       "      <td>3</td>\n",
       "      <td>1</td>\n",
       "      <td>0</td>\n",
       "      <td>0</td>\n",
       "      <td>1</td>\n",
       "      <td>88</td>\n",
       "      <td>172</td>\n",
       "      <td>29</td>\n",
       "      <td>4</td>\n",
       "    </tr>\n",
       "    <tr>\n",
       "      <th>737</th>\n",
       "      <td>4</td>\n",
       "      <td>0</td>\n",
       "      <td>0</td>\n",
       "      <td>3</td>\n",
       "      <td>1</td>\n",
       "      <td>118</td>\n",
       "      <td>14</td>\n",
       "      <td>13</td>\n",
       "      <td>40</td>\n",
       "      <td>271.219</td>\n",
       "      <td>...</td>\n",
       "      <td>0</td>\n",
       "      <td>1</td>\n",
       "      <td>1</td>\n",
       "      <td>1</td>\n",
       "      <td>0</td>\n",
       "      <td>8</td>\n",
       "      <td>98</td>\n",
       "      <td>170</td>\n",
       "      <td>34</td>\n",
       "      <td>0</td>\n",
       "    </tr>\n",
       "    <tr>\n",
       "      <th>738</th>\n",
       "      <td>8</td>\n",
       "      <td>0</td>\n",
       "      <td>0</td>\n",
       "      <td>4</td>\n",
       "      <td>2</td>\n",
       "      <td>231</td>\n",
       "      <td>35</td>\n",
       "      <td>14</td>\n",
       "      <td>39</td>\n",
       "      <td>271.219</td>\n",
       "      <td>...</td>\n",
       "      <td>0</td>\n",
       "      <td>1</td>\n",
       "      <td>2</td>\n",
       "      <td>1</td>\n",
       "      <td>0</td>\n",
       "      <td>2</td>\n",
       "      <td>100</td>\n",
       "      <td>170</td>\n",
       "      <td>35</td>\n",
       "      <td>0</td>\n",
       "    </tr>\n",
       "    <tr>\n",
       "      <th>739</th>\n",
       "      <td>35</td>\n",
       "      <td>0</td>\n",
       "      <td>0</td>\n",
       "      <td>6</td>\n",
       "      <td>3</td>\n",
       "      <td>179</td>\n",
       "      <td>45</td>\n",
       "      <td>14</td>\n",
       "      <td>53</td>\n",
       "      <td>271.219</td>\n",
       "      <td>...</td>\n",
       "      <td>0</td>\n",
       "      <td>1</td>\n",
       "      <td>1</td>\n",
       "      <td>0</td>\n",
       "      <td>0</td>\n",
       "      <td>1</td>\n",
       "      <td>77</td>\n",
       "      <td>175</td>\n",
       "      <td>25</td>\n",
       "      <td>0</td>\n",
       "    </tr>\n",
       "  </tbody>\n",
       "</table>\n",
       "<p>5 rows × 21 columns</p>\n",
       "</div>"
      ],
      "text/plain": [
       "     ID  Reason for absence  Month of absence  Day of the week  Seasons  \\\n",
       "735  11                  14                 7                3        1   \n",
       "736   1                  11                 7                3        1   \n",
       "737   4                   0                 0                3        1   \n",
       "738   8                   0                 0                4        2   \n",
       "739  35                   0                 0                6        3   \n",
       "\n",
       "     Transportation expense  Distance from Residence to Work  Service time  \\\n",
       "735                     289                               36            13   \n",
       "736                     235                               11            14   \n",
       "737                     118                               14            13   \n",
       "738                     231                               35            14   \n",
       "739                     179                               45            14   \n",
       "\n",
       "     Age  Work load Average per day  ...  Disciplinary failure  Education  \\\n",
       "735   33                    264.604  ...                     0          1   \n",
       "736   37                    264.604  ...                     0          3   \n",
       "737   40                    271.219  ...                     0          1   \n",
       "738   39                    271.219  ...                     0          1   \n",
       "739   53                    271.219  ...                     0          1   \n",
       "\n",
       "     Son  Social drinker  Social smoker  Pet  Weight  Height  Body mass index  \\\n",
       "735    2               1              0    1      90     172               30   \n",
       "736    1               0              0    1      88     172               29   \n",
       "737    1               1              0    8      98     170               34   \n",
       "738    2               1              0    2     100     170               35   \n",
       "739    1               0              0    1      77     175               25   \n",
       "\n",
       "     Absenteeism time in hours  \n",
       "735                          8  \n",
       "736                          4  \n",
       "737                          0  \n",
       "738                          0  \n",
       "739                          0  \n",
       "\n",
       "[5 rows x 21 columns]"
      ]
     },
     "execution_count": 6,
     "metadata": {},
     "output_type": "execute_result"
    }
   ],
   "source": [
    "data.tail()"
   ]
  },
  {
   "cell_type": "code",
   "execution_count": 7,
   "metadata": {
    "colab": {},
    "colab_type": "code",
    "id": "KlN9iRhvOVCH"
   },
   "outputs": [],
   "source": [
    "X = data.iloc[:, 1:-1]  \n",
    "y = data.iloc[:,-1]"
   ]
  },
  {
   "cell_type": "code",
   "execution_count": 8,
   "metadata": {
    "colab": {
     "base_uri": "https://localhost:8080/",
     "height": 238
    },
    "colab_type": "code",
    "executionInfo": {
     "elapsed": 2869,
     "status": "ok",
     "timestamp": 1573858841882,
     "user": {
      "displayName": "Phuong Khuat Thuy",
      "photoUrl": "",
      "userId": "16807426118474640783"
     },
     "user_tz": -420
    },
    "id": "LhxDK8BKOVCK",
    "outputId": "a019b282-1161-4281-afdd-9f898e1dae5d"
   },
   "outputs": [
    {
     "data": {
      "text/html": [
       "<div>\n",
       "<style scoped>\n",
       "    .dataframe tbody tr th:only-of-type {\n",
       "        vertical-align: middle;\n",
       "    }\n",
       "\n",
       "    .dataframe tbody tr th {\n",
       "        vertical-align: top;\n",
       "    }\n",
       "\n",
       "    .dataframe thead th {\n",
       "        text-align: right;\n",
       "    }\n",
       "</style>\n",
       "<table border=\"1\" class=\"dataframe\">\n",
       "  <thead>\n",
       "    <tr style=\"text-align: right;\">\n",
       "      <th></th>\n",
       "      <th>Reason for absence</th>\n",
       "      <th>Month of absence</th>\n",
       "      <th>Day of the week</th>\n",
       "      <th>Seasons</th>\n",
       "      <th>Transportation expense</th>\n",
       "      <th>Distance from Residence to Work</th>\n",
       "      <th>Service time</th>\n",
       "      <th>Age</th>\n",
       "      <th>Work load Average per day</th>\n",
       "      <th>Hit target</th>\n",
       "      <th>Disciplinary failure</th>\n",
       "      <th>Education</th>\n",
       "      <th>Son</th>\n",
       "      <th>Social drinker</th>\n",
       "      <th>Social smoker</th>\n",
       "      <th>Pet</th>\n",
       "      <th>Weight</th>\n",
       "      <th>Height</th>\n",
       "      <th>Body mass index</th>\n",
       "    </tr>\n",
       "  </thead>\n",
       "  <tbody>\n",
       "    <tr>\n",
       "      <th>0</th>\n",
       "      <td>26</td>\n",
       "      <td>7</td>\n",
       "      <td>3</td>\n",
       "      <td>1</td>\n",
       "      <td>289</td>\n",
       "      <td>36</td>\n",
       "      <td>13</td>\n",
       "      <td>33</td>\n",
       "      <td>239.554</td>\n",
       "      <td>97</td>\n",
       "      <td>0</td>\n",
       "      <td>1</td>\n",
       "      <td>2</td>\n",
       "      <td>1</td>\n",
       "      <td>0</td>\n",
       "      <td>1</td>\n",
       "      <td>90</td>\n",
       "      <td>172</td>\n",
       "      <td>30</td>\n",
       "    </tr>\n",
       "    <tr>\n",
       "      <th>1</th>\n",
       "      <td>0</td>\n",
       "      <td>7</td>\n",
       "      <td>3</td>\n",
       "      <td>1</td>\n",
       "      <td>118</td>\n",
       "      <td>13</td>\n",
       "      <td>18</td>\n",
       "      <td>50</td>\n",
       "      <td>239.554</td>\n",
       "      <td>97</td>\n",
       "      <td>1</td>\n",
       "      <td>1</td>\n",
       "      <td>1</td>\n",
       "      <td>1</td>\n",
       "      <td>0</td>\n",
       "      <td>0</td>\n",
       "      <td>98</td>\n",
       "      <td>178</td>\n",
       "      <td>31</td>\n",
       "    </tr>\n",
       "    <tr>\n",
       "      <th>2</th>\n",
       "      <td>23</td>\n",
       "      <td>7</td>\n",
       "      <td>4</td>\n",
       "      <td>1</td>\n",
       "      <td>179</td>\n",
       "      <td>51</td>\n",
       "      <td>18</td>\n",
       "      <td>38</td>\n",
       "      <td>239.554</td>\n",
       "      <td>97</td>\n",
       "      <td>0</td>\n",
       "      <td>1</td>\n",
       "      <td>0</td>\n",
       "      <td>1</td>\n",
       "      <td>0</td>\n",
       "      <td>0</td>\n",
       "      <td>89</td>\n",
       "      <td>170</td>\n",
       "      <td>31</td>\n",
       "    </tr>\n",
       "    <tr>\n",
       "      <th>3</th>\n",
       "      <td>7</td>\n",
       "      <td>7</td>\n",
       "      <td>5</td>\n",
       "      <td>1</td>\n",
       "      <td>279</td>\n",
       "      <td>5</td>\n",
       "      <td>14</td>\n",
       "      <td>39</td>\n",
       "      <td>239.554</td>\n",
       "      <td>97</td>\n",
       "      <td>0</td>\n",
       "      <td>1</td>\n",
       "      <td>2</td>\n",
       "      <td>1</td>\n",
       "      <td>1</td>\n",
       "      <td>0</td>\n",
       "      <td>68</td>\n",
       "      <td>168</td>\n",
       "      <td>24</td>\n",
       "    </tr>\n",
       "    <tr>\n",
       "      <th>4</th>\n",
       "      <td>23</td>\n",
       "      <td>7</td>\n",
       "      <td>5</td>\n",
       "      <td>1</td>\n",
       "      <td>289</td>\n",
       "      <td>36</td>\n",
       "      <td>13</td>\n",
       "      <td>33</td>\n",
       "      <td>239.554</td>\n",
       "      <td>97</td>\n",
       "      <td>0</td>\n",
       "      <td>1</td>\n",
       "      <td>2</td>\n",
       "      <td>1</td>\n",
       "      <td>0</td>\n",
       "      <td>1</td>\n",
       "      <td>90</td>\n",
       "      <td>172</td>\n",
       "      <td>30</td>\n",
       "    </tr>\n",
       "  </tbody>\n",
       "</table>\n",
       "</div>"
      ],
      "text/plain": [
       "   Reason for absence  Month of absence  Day of the week  Seasons  \\\n",
       "0                  26                 7                3        1   \n",
       "1                   0                 7                3        1   \n",
       "2                  23                 7                4        1   \n",
       "3                   7                 7                5        1   \n",
       "4                  23                 7                5        1   \n",
       "\n",
       "   Transportation expense  Distance from Residence to Work  Service time  Age  \\\n",
       "0                     289                               36            13   33   \n",
       "1                     118                               13            18   50   \n",
       "2                     179                               51            18   38   \n",
       "3                     279                                5            14   39   \n",
       "4                     289                               36            13   33   \n",
       "\n",
       "   Work load Average per day  Hit target  Disciplinary failure  Education  \\\n",
       "0                    239.554          97                     0          1   \n",
       "1                    239.554          97                     1          1   \n",
       "2                    239.554          97                     0          1   \n",
       "3                    239.554          97                     0          1   \n",
       "4                    239.554          97                     0          1   \n",
       "\n",
       "   Son  Social drinker  Social smoker  Pet  Weight  Height  Body mass index  \n",
       "0    2               1              0    1      90     172               30  \n",
       "1    1               1              0    0      98     178               31  \n",
       "2    0               1              0    0      89     170               31  \n",
       "3    2               1              1    0      68     168               24  \n",
       "4    2               1              0    1      90     172               30  "
      ]
     },
     "execution_count": 8,
     "metadata": {},
     "output_type": "execute_result"
    }
   ],
   "source": [
    "X.head()"
   ]
  },
  {
   "cell_type": "code",
   "execution_count": 9,
   "metadata": {
    "colab": {
     "base_uri": "https://localhost:8080/",
     "height": 119
    },
    "colab_type": "code",
    "executionInfo": {
     "elapsed": 2860,
     "status": "ok",
     "timestamp": 1573858841883,
     "user": {
      "displayName": "Phuong Khuat Thuy",
      "photoUrl": "",
      "userId": "16807426118474640783"
     },
     "user_tz": -420
    },
    "id": "C09P4ROqOVCM",
    "outputId": "d7fc7fa9-3afe-4915-c8e3-69130b9fd4cf"
   },
   "outputs": [
    {
     "data": {
      "text/plain": [
       "0    4\n",
       "1    0\n",
       "2    2\n",
       "3    4\n",
       "4    2\n",
       "Name: Absenteeism time in hours, dtype: int64"
      ]
     },
     "execution_count": 9,
     "metadata": {},
     "output_type": "execute_result"
    }
   ],
   "source": [
    "y.head()"
   ]
  },
  {
   "cell_type": "code",
   "execution_count": 10,
   "metadata": {
    "colab": {},
    "colab_type": "code",
    "id": "aRUTXR1XOVCP"
   },
   "outputs": [],
   "source": [
    "# Import train_test_split function\n",
    "from sklearn.model_selection import train_test_split\n",
    "# Split dataset into training set and test set\n",
    "X_train, X_test, y_train, y_test = train_test_split(X, y, \n",
    "                                                    test_size=0.3, \n",
    "                                                    random_state = 1) "
   ]
  },
  {
   "cell_type": "code",
   "execution_count": 11,
   "metadata": {
    "colab": {},
    "colab_type": "code",
    "id": "O3G_vdQyOVCV"
   },
   "outputs": [],
   "source": [
    "from sklearn.ensemble import RandomForestRegressor"
   ]
  },
  {
   "cell_type": "code",
   "execution_count": 12,
   "metadata": {
    "colab": {},
    "colab_type": "code",
    "id": "Cd27Kji5OVCX"
   },
   "outputs": [],
   "source": [
    "clf=RandomForestRegressor(n_estimators=250,min_samples_leaf=2)"
   ]
  },
  {
   "cell_type": "code",
   "execution_count": 13,
   "metadata": {
    "colab": {},
    "colab_type": "code",
    "id": "DjCL29NjOVCZ"
   },
   "outputs": [],
   "source": [
    "clf.fit(X_train,y_train)\n",
    "y_pred = clf.predict(X_test)"
   ]
  },
  {
   "cell_type": "code",
   "execution_count": 14,
   "metadata": {
    "colab": {
     "base_uri": "https://localhost:8080/",
     "height": 34
    },
    "colab_type": "code",
    "executionInfo": {
     "elapsed": 3925,
     "status": "ok",
     "timestamp": 1573858842987,
     "user": {
      "displayName": "Phuong Khuat Thuy",
      "photoUrl": "",
      "userId": "16807426118474640783"
     },
     "user_tz": -420
    },
    "id": "IZIIBalMOVCc",
    "outputId": "506dc4a7-e126-45d4-9c2b-427e34551add"
   },
   "outputs": [
    {
     "data": {
      "text/plain": [
       "pandas.core.series.Series"
      ]
     },
     "execution_count": 14,
     "metadata": {},
     "output_type": "execute_result"
    }
   ],
   "source": [
    "type(y_test)"
   ]
  },
  {
   "cell_type": "code",
   "execution_count": 15,
   "metadata": {
    "colab": {
     "base_uri": "https://localhost:8080/",
     "height": 34
    },
    "colab_type": "code",
    "executionInfo": {
     "elapsed": 3915,
     "status": "ok",
     "timestamp": 1573858842988,
     "user": {
      "displayName": "Phuong Khuat Thuy",
      "photoUrl": "",
      "userId": "16807426118474640783"
     },
     "user_tz": -420
    },
    "id": "nklv8dSOOVCe",
    "outputId": "316f30ed-bd7a-4451-9059-79aba636f706"
   },
   "outputs": [
    {
     "data": {
      "text/plain": [
       "numpy.ndarray"
      ]
     },
     "execution_count": 15,
     "metadata": {},
     "output_type": "execute_result"
    }
   ],
   "source": [
    "type(y_pred)"
   ]
  },
  {
   "cell_type": "code",
   "execution_count": 16,
   "metadata": {
    "colab": {
     "base_uri": "https://localhost:8080/",
     "height": 34
    },
    "colab_type": "code",
    "executionInfo": {
     "elapsed": 3907,
     "status": "ok",
     "timestamp": 1573858842988,
     "user": {
      "displayName": "Phuong Khuat Thuy",
      "photoUrl": "",
      "userId": "16807426118474640783"
     },
     "user_tz": -420
    },
    "id": "DmP92bRbOVCh",
    "outputId": "adac544e-d209-432a-c553-2ea604ec6678"
   },
   "outputs": [
    {
     "name": "stdout",
     "output_type": "stream",
     "text": [
      "Mean Squared Error: 139.55808407597019\n"
     ]
    }
   ],
   "source": [
    "from sklearn import metrics\n",
    "print(\"Mean Squared Error:\", metrics.mean_squared_error(y_test, y_pred))"
   ]
  },
  {
   "cell_type": "code",
   "execution_count": 18,
   "metadata": {
    "colab": {
     "base_uri": "https://localhost:8080/",
     "height": 68
    },
    "colab_type": "code",
    "executionInfo": {
     "elapsed": 3896,
     "status": "ok",
     "timestamp": 1573858842988,
     "user": {
      "displayName": "Phuong Khuat Thuy",
      "photoUrl": "",
      "userId": "16807426118474640783"
     },
     "user_tz": -420
    },
    "id": "FNbL3HYqOVCj",
    "outputId": "3cd0a984-0384-4fae-ff41-0034d3465f1f"
   },
   "outputs": [
    {
     "name": "stdout",
     "output_type": "stream",
     "text": [
      "The R^2:  54.7980278443285 %\n",
      "The Training R^2 is:  69.25555766663479 %\n",
      "The Testing R^2 is:  20.56504288899084 %\n"
     ]
    }
   ],
   "source": [
    "# Evaluation\n",
    "print(\"The R^2: \",clf.score(X,y)*100,\"%\")\n",
    "print(\"The Training R^2 is: \",clf.score(X_train,y_train)*100,\"%\")\n",
    "print(\"The Testing R^2 is: \",clf.score(X_test,y_test)*100,\"%\")"
   ]
  },
  {
   "cell_type": "code",
   "execution_count": 168,
   "metadata": {
    "colab": {},
    "colab_type": "code",
    "id": "wiSLYmLWOVCm"
   },
   "outputs": [],
   "source": [
    "# => The Training  R^2 >> Testing R^2 => Overfitting => Solution???"
   ]
  },
  {
   "cell_type": "code",
   "execution_count": 138,
   "metadata": {
    "colab": {
     "base_uri": "https://localhost:8080/",
     "height": 357
    },
    "colab_type": "code",
    "executionInfo": {
     "elapsed": 3859,
     "status": "ok",
     "timestamp": 1573858842989,
     "user": {
      "displayName": "Phuong Khuat Thuy",
      "photoUrl": "",
      "userId": "16807426118474640783"
     },
     "user_tz": -420
    },
    "id": "iUXXncf5OVCo",
    "outputId": "e0aae72c-b8d4-49ee-e145-dd54172ee195"
   },
   "outputs": [
    {
     "data": {
      "text/plain": [
       "Reason for absence                 0.233697\n",
       "Work load Average per day          0.155996\n",
       "Age                                0.095237\n",
       "Month of absence                   0.077086\n",
       "Day of the week                    0.063507\n",
       "Hit target                         0.061268\n",
       "Transportation expense             0.052098\n",
       "Seasons                            0.047895\n",
       "Height                             0.038988\n",
       "Weight                             0.038635\n",
       "Distance from Residence to Work    0.030017\n",
       "Son                                0.029137\n",
       "Body mass index                    0.021357\n",
       "Service time                       0.019716\n",
       "Pet                                0.016579\n",
       "Social drinker                     0.012164\n",
       "Education                          0.002890\n",
       "Social smoker                      0.002298\n",
       "Disciplinary failure               0.001436\n",
       "dtype: float64"
      ]
     },
     "execution_count": 138,
     "metadata": {},
     "output_type": "execute_result"
    }
   ],
   "source": [
    "# Finding Important Features in Scikit-learn\n",
    "import pandas as pd\n",
    "clf.feature_importances_\n",
    "feature_imp = pd.Series(clf.feature_importances_, \n",
    "              index = np.array(X.columns)).sort_values(ascending=False)\n",
    "feature_imp"
   ]
  },
  {
   "cell_type": "code",
   "execution_count": 139,
   "metadata": {
    "colab": {
     "base_uri": "https://localhost:8080/",
     "height": 34
    },
    "colab_type": "code",
    "executionInfo": {
     "elapsed": 3848,
     "status": "ok",
     "timestamp": 1573858842990,
     "user": {
      "displayName": "Phuong Khuat Thuy",
      "photoUrl": "",
      "userId": "16807426118474640783"
     },
     "user_tz": -420
    },
    "id": "8Pm19tkXOVCq",
    "outputId": "7b6a3b3c-3a94-484e-b071-6b1e99791ab2"
   },
   "outputs": [
    {
     "data": {
      "text/plain": [
       "pandas.core.series.Series"
      ]
     },
     "execution_count": 139,
     "metadata": {},
     "output_type": "execute_result"
    }
   ],
   "source": [
    "type(feature_imp)"
   ]
  },
  {
   "cell_type": "code",
   "execution_count": 140,
   "metadata": {
    "colab": {
     "base_uri": "https://localhost:8080/",
     "height": 561
    },
    "colab_type": "code",
    "executionInfo": {
     "elapsed": 4595,
     "status": "ok",
     "timestamp": 1573858843746,
     "user": {
      "displayName": "Phuong Khuat Thuy",
      "photoUrl": "",
      "userId": "16807426118474640783"
     },
     "user_tz": -420
    },
    "id": "zwAJmJuIOVCv",
    "outputId": "5eae8302-4527-425f-effa-00d0895a9bfe",
    "scrolled": true
   },
   "outputs": [
    {
     "data": {
      "image/png": "[encoded data removed]",
      "text/plain": [
       "<Figure size 864x432 with 1 Axes>"
      ]
     },
     "metadata": {
      "needs_background": "light"
     },
     "output_type": "display_data"
    }
   ],
   "source": [
    "import matplotlib.pyplot as plt\n",
    "%matplotlib inline\n",
    "# Creating a bar plot\n",
    "plt.figure(figsize=(12,6))\n",
    "plt.bar(feature_imp.index, feature_imp, color=\"g\")\n",
    "# Add labels to your graph\n",
    "plt.xlabel('Features')\n",
    "plt.ylabel('Feature Importance Score')\n",
    "plt.title(\"Visualizing Important Features\")\n",
    "plt.xticks(rotation = \"vertical\")\n",
    "plt.show()"
   ]
  },
  {
   "cell_type": "code",
   "execution_count": 141,
   "metadata": {
    "colab": {
     "base_uri": "https://localhost:8080/",
     "height": 34
    },
    "colab_type": "code",
    "executionInfo": {
     "elapsed": 4583,
     "status": "ok",
     "timestamp": 1573858843747,
     "user": {
      "displayName": "Phuong Khuat Thuy",
      "photoUrl": "",
      "userId": "16807426118474640783"
     },
     "user_tz": -420
    },
    "id": "8_bD5GePOVCy",
    "outputId": "537b37a9-7f83-4218-f5ab-78c960e505ad"
   },
   "outputs": [
    {
     "data": {
      "text/plain": [
       "0.7388887926928862"
      ]
     },
     "execution_count": 141,
     "metadata": {},
     "output_type": "execute_result"
    }
   ],
   "source": [
    "feature_imp[feature_imp >0.05].sum()"
   ]
  },
  {
   "cell_type": "code",
   "execution_count": 142,
   "metadata": {
    "colab": {
     "base_uri": "https://localhost:8080/",
     "height": 153
    },
    "colab_type": "code",
    "executionInfo": {
     "elapsed": 4572,
     "status": "ok",
     "timestamp": 1573858843748,
     "user": {
      "displayName": "Phuong Khuat Thuy",
      "photoUrl": "",
      "userId": "16807426118474640783"
     },
     "user_tz": -420
    },
    "id": "EenVSlAoOVC1",
    "outputId": "bf24f862-f203-40e7-f720-491a0bcaf6f9"
   },
   "outputs": [
    {
     "data": {
      "text/plain": [
       "Reason for absence           0.233697\n",
       "Work load Average per day    0.155996\n",
       "Age                          0.095237\n",
       "Month of absence             0.077086\n",
       "Day of the week              0.063507\n",
       "Hit target                   0.061268\n",
       "Transportation expense       0.052098\n",
       "dtype: float64"
      ]
     },
     "execution_count": 142,
     "metadata": {},
     "output_type": "execute_result"
    }
   ],
   "source": [
    "feature_imp_select = feature_imp[feature_imp >0.05]\n",
    "feature_imp_select"
   ]
  },
  {
   "cell_type": "code",
   "execution_count": 143,
   "metadata": {
    "colab": {
     "base_uri": "https://localhost:8080/",
     "height": 85
    },
    "colab_type": "code",
    "executionInfo": {
     "elapsed": 4560,
     "status": "ok",
     "timestamp": 1573858843749,
     "user": {
      "displayName": "Phuong Khuat Thuy",
      "photoUrl": "",
      "userId": "16807426118474640783"
     },
     "user_tz": -420
    },
    "id": "FZsL2KGNOVC3",
    "outputId": "d6fce741-9e1d-4ae4-e870-f40c603fefb3"
   },
   "outputs": [
    {
     "data": {
      "text/plain": [
       "Index(['Reason for absence', 'Work load Average per day', 'Age',\n",
       "       'Month of absence', 'Day of the week', 'Hit target',\n",
       "       'Transportation expense'],\n",
       "      dtype='object')"
      ]
     },
     "execution_count": 143,
     "metadata": {},
     "output_type": "execute_result"
    }
   ],
   "source": [
    "feature_imp_select.index"
   ]
  },
  {
   "cell_type": "code",
   "execution_count": 144,
   "metadata": {
    "colab": {},
    "colab_type": "code",
    "id": "k2uknuraOVC7"
   },
   "outputs": [],
   "source": [
    "# Tạo lại dữ liệu huấn luyện và test sau khi bỏ đi các thuộc tính ít quan trọng hơn\n",
    "# Split dataset into features and labels\n",
    "X1 = data[feature_imp_select.index]  \n",
    "y1 = data['Absenteeism time in hours']"
   ]
  },
  {
   "cell_type": "code",
   "execution_count": 145,
   "metadata": {
    "colab": {},
    "colab_type": "code",
    "id": "zYrBjYTAOVC-"
   },
   "outputs": [],
   "source": [
    "# Split dataset into training set and test set\n",
    "X1_train, X1_test, y1_train, y1_test = train_test_split(X1, y1, \n",
    "                                                        test_size=0.3, \n",
    "                                                        random_state = 1) "
   ]
  },
  {
   "cell_type": "code",
   "execution_count": 146,
   "metadata": {
    "colab": {},
    "colab_type": "code",
    "id": "AMZyxRqTOVDA"
   },
   "outputs": [],
   "source": [
    "clf1=RandomForestRegressor(n_estimators=100)\n",
    "clf1.fit(X1_train,y1_train)\n",
    "\n",
    "y1_pred=clf1.predict(X1_test)"
   ]
  },
  {
   "cell_type": "code",
   "execution_count": 147,
   "metadata": {
    "colab": {
     "base_uri": "https://localhost:8080/",
     "height": 34
    },
    "colab_type": "code",
    "executionInfo": {
     "elapsed": 4537,
     "status": "ok",
     "timestamp": 1573858843751,
     "user": {
      "displayName": "Phuong Khuat Thuy",
      "photoUrl": "",
      "userId": "16807426118474640783"
     },
     "user_tz": -420
    },
    "id": "yvgP1R78OVDC",
    "outputId": "1d7edc3f-a895-4928-8d0e-3d2c6625c96b"
   },
   "outputs": [
    {
     "name": "stdout",
     "output_type": "stream",
     "text": [
      "Mean Squared Error: 133.61204250100297\n"
     ]
    }
   ],
   "source": [
    "print(\"Mean Squared Error:\", metrics.mean_squared_error(y1_test, y1_pred))"
   ]
  },
  {
   "cell_type": "code",
   "execution_count": 148,
   "metadata": {
    "colab": {
     "base_uri": "https://localhost:8080/",
     "height": 68
    },
    "colab_type": "code",
    "executionInfo": {
     "elapsed": 4933,
     "status": "ok",
     "timestamp": 1573858844156,
     "user": {
      "displayName": "Phuong Khuat Thuy",
      "photoUrl": "",
      "userId": "16807426118474640783"
     },
     "user_tz": -420
    },
    "id": "84s8DAALOVDF",
    "outputId": "6065fc44-60c8-434f-d12d-02055ef2f5ba"
   },
   "outputs": [
    {
     "name": "stdout",
     "output_type": "stream",
     "text": [
      "The R^2:  65.12002625359048 %\n",
      "The Training R^2:  82.50978998870009 %\n",
      "The Testing R^2:  23.94946565901599 %\n"
     ]
    }
   ],
   "source": [
    "# Evaluation\n",
    "print(\"The R^2: \",clf1.score(X1,y1)*100,\"%\")\n",
    "print(\"The Training R^2: \",clf1.score(X1_train,y1_train)*100,\"%\")\n",
    "print(\"The Testing R^2: \",clf1.score(X1_test,y1_test)*100,\"%\")"
   ]
  },
  {
   "cell_type": "code",
   "execution_count": 149,
   "metadata": {
    "colab": {},
    "colab_type": "code",
    "id": "mWZipOADOVDG"
   },
   "outputs": [],
   "source": [
    "# => The Training  R^2 >> Testing R^2 => Overfitting => Solution???"
   ]
  },
  {
   "cell_type": "code",
   "execution_count": 32,
   "metadata": {
    "colab": {},
    "colab_type": "code",
    "id": "mTNuQORZOVDI"
   },
   "outputs": [],
   "source": [
    "a = X1.iloc[20]\n",
    "X_new = a.values"
   ]
  },
  {
   "cell_type": "code",
   "execution_count": 33,
   "metadata": {
    "colab": {
     "base_uri": "https://localhost:8080/",
     "height": 34
    },
    "colab_type": "code",
    "executionInfo": {
     "elapsed": 4913,
     "status": "ok",
     "timestamp": 1573858844158,
     "user": {
      "displayName": "Phuong Khuat Thuy",
      "photoUrl": "",
      "userId": "16807426118474640783"
     },
     "user_tz": -420
    },
    "id": "E94SwnLwOVDL",
    "outputId": "d52aa0e6-4f94-4d7f-fd6b-44a597c5758e"
   },
   "outputs": [
    {
     "data": {
      "text/plain": [
       "array([18.31])"
      ]
     },
     "execution_count": 33,
     "metadata": {},
     "output_type": "execute_result"
    }
   ],
   "source": [
    "clf1.predict([X_new]) "
   ]
  }
 ],
 "metadata": {
  "colab": {
   "name": "Chapter7_ex_2_Absenteeism_at_work_print.ipynb",
   "provenance": []
  },
  "kernelspec": {
   "display_name": "Python 3",
   "language": "python",
   "name": "python3"
  },
  "language_info": {
   "codemirror_mode": {
    "name": "ipython",
    "version": 3
   },
   "file_extension": ".py",
   "mimetype": "text/x-python",
   "name": "python",
   "nbconvert_exporter": "python",
   "pygments_lexer": "ipython3",
   "version": "3.6.8"
  }
 },
 "nbformat": 4,
 "nbformat_minor": 1
}
